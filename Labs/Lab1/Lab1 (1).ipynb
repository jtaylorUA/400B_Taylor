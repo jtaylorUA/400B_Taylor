{
 "cells": [
  {
   "cell_type": "markdown",
   "metadata": {},
   "source": [
    "# In Class Lab 1\n",
    "\n",
    "## Part A:  The Local Standard of Rest\n",
    "Proper motion of Sgr A* from Reid & Brunthaler 2004\n",
    "$\\mu = 6.379$ mas/yr \n",
    "\n",
    "Peculiar motion of the sun, $v_\\odot$ = 12.24 km/s  (Schonrich 2010)\n",
    "\n",
    "\n",
    "$v_{tan} = 4.74 \\frac{\\mu}{\\rm mas/yr} \\frac{R_o}{\\rm kpc} = V_{LSR} + v_\\odot$\n",
    "\n",
    "\n",
    "### a)\n",
    "\n",
    "Create a function called VLSR to compute the local standard of res (V$_{LSR}$).\n",
    "\n",
    "The function should take as input: the solar radius (R$_o$), the proper motion (mu)\n",
    "and the peculiar motion of the sun in the $v_\\odot$ direction.\n",
    "\n",
    "Compute V$_{LSR}$ using three different values R$_o$: \n",
    "1. Water Maser Distance for the Sun :  R$_o$ = 8.34 kpc   (Reid 2014 ApJ 783) \n",
    "2. GRAVITY Collaboration Distance for the Sun:  R$_o$ = 8.178 kpc   (Abuter+2019 A&A 625)\n",
    "3. Value for Distance to Sun listed in Sparke & Gallagher : R$_o$ = 7.9 kpc \n"
   ]
  },
  {
   "cell_type": "code",
   "execution_count": 8,
   "metadata": {},
   "outputs": [],
   "source": [
    "import numpy as np"
   ]
  },
  {
   "cell_type": "code",
   "execution_count": 7,
   "metadata": {},
   "outputs": [
    {
     "name": "stdout",
     "output_type": "stream",
     "text": [
      "239.9320764\n",
      "235.03376988000002\n",
      "226.628034\n"
     ]
    }
   ],
   "source": [
    "#Function to calculate VLSR(velocity of local standard of rest) using radius=r, propper motion=mu, and velocity of sun=vsun\n",
    "#4.74*mu*Ro = VLSR + vsun\n",
    "#VLSR = 4.74*mu*Ro - vsun\n",
    "def VLSR(Ro, mu=6.379, vsun=12.24):\n",
    "    #Inputs\n",
    "    #Ro is the distance from the sun to the galactic center in kPc\n",
    "    #mu is the propper motion of SagA*, default is from Reid & Brunthaler 2004\n",
    "    #vsun is the peculiar motion of the sun in the v direction in units of (km/s). Default is from Schonrich 2012\n",
    "    #Returns local standard of rest (km/s)\n",
    "    return 4.74*mu*Ro - vsun\n",
    "RoReid = 8.34 # Distance to the Falactic center from Reid et al. 2014 in kPc\n",
    "RoGravity = 8.178 #Distance to the galactic center from Gravity collaboration 2019 in kPc\n",
    "RoSG = 7.9 #Distance to the galactic center from the textbook by Sparke & Gallagher\n",
    "\n",
    "#compute VLSR using Reid 2014 value for Ro\n",
    "VLSR_Reid = VLSR(RoReid)\n",
    "print(VLSR_Reid)\n",
    "#Compute VLSR using Gravity collaboration 2019 for Ro\n",
    "VLSR_Gravity = VLSR(RoGravity)\n",
    "print(VLSR_Gravity)\n",
    "#Compute VLSR using textbook value for Ro\n",
    "VLSR_SG = VLSR(RoSG)\n",
    "print(VLSR_SG)"
   ]
  },
  {
   "cell_type": "markdown",
   "metadata": {},
   "source": [
    "### b)\n",
    "\n",
    "compute the orbital period of the sun using R$_o$ from the GRAVITY Collaboration (assume circular orbit)\n",
    "\n",
    "Note that 1 km/s $\\sim$ 1kpc/Gyr"
   ]
  },
  {
   "cell_type": "code",
   "execution_count": 9,
   "metadata": {},
   "outputs": [
    {
     "name": "stdout",
     "output_type": "stream",
     "text": [
      "0.20780161788713317\n"
     ]
    }
   ],
   "source": [
    "#Computing the orbital period of the sun using Ro from Gravity Collaboration \n",
    "#P = 2piR/V  --units kps/(km/s) -- kpc / (kpc/Gry) -- Gyr\n",
    "#V = Vtan = VLSR + Vsun\n",
    "Vtan = VLSR_Gravity + 12.24\n",
    "T_Gravity = 2*np.pi*RoGravity/Vtan\n",
    "print(T_Gravity) #orbital period in Gyr"
   ]
  },
  {
   "cell_type": "markdown",
   "metadata": {},
   "source": [
    "### c)\n",
    "\n",
    "Compute the number of rotations about the GC over the age of the universe (13.8 Gyr)"
   ]
  },
  {
   "cell_type": "code",
   "execution_count": 10,
   "metadata": {},
   "outputs": [
    {
     "name": "stdout",
     "output_type": "stream",
     "text": [
      "66.40949257428511\n"
     ]
    }
   ],
   "source": [
    "#Determining the number of rotations about the galactic center \n",
    "#Age of the universe / Orbital Period\n",
    "print(13.8 / T_Gravity)"
   ]
  },
  {
   "cell_type": "markdown",
   "metadata": {},
   "source": [
    "## Part B  Dark Matter Density Profiles\n",
    "\n",
    "### a)\n",
    "Try out Fitting Rotation Curves \n",
    "[here](http://wittman.physics.ucdavis.edu/Animations/RotationCurve/GalacticRotation.html)\n",
    "\n",
    "\n",
    "### b)\n",
    "\n",
    "In the Isothermal Sphere model, what is the mass enclosed within the solar radius (R$_o$) in units of $10^{10}$ M$_\\odot$? \n",
    "\n",
    "Recall that for the Isothermal sphere :\n",
    "$\\rho(r) = \\frac{V_{LSR}^2}{4\\pi G r^2}$\n",
    "\n",
    "Where $G$ = 4.4988e-6 kpc$^3$/Gyr$^2$/M$_\\odot$\n",
    "\n",
    "What about at 260 kpc (in units of 10$^{12}$ M$_\\odot$) ? "
   ]
  },
  {
   "cell_type": "code",
   "execution_count": 13,
   "metadata": {},
   "outputs": [
    {
     "name": "stdout",
     "output_type": "stream",
     "text": [
      "10.036669407529224\n",
      "3.190919596426508\n"
     ]
    }
   ],
   "source": [
    "#Gravitational constant\n",
    "G = 4.4998e-6 #kpc^3/Gyr^2/Msun\n",
    "#Compute the mass enclosed within a given radius, assuming an Isothermal Sphere Model\n",
    "#Density profile rho = VLSR^2/(4*pi*G^2)\n",
    "#Mass = Integrate Rho dv\n",
    "#    Integrate rho 4*pi*G*r^2dr\n",
    "#    Integrate VLSR / (4*pi*G*r^2) * 4*pi*r^2 dr\n",
    "#    Integrate VLSR^2/G * r\n",
    "def MassIso(r,VLSR = 235):\n",
    "    #Inputs\n",
    "    #VLSR is the local standard of rest in km/s; using default VLSR from Gravity Collaboration\n",
    "    #r is the distance from the galactic center in kpc\n",
    "    #Returns:\n",
    "    #    Mass enclosed in Msun\n",
    "    return VLSR**2/G*r\n",
    "#Compute mass enclosed within Ro\n",
    "MIsoSolar = MassIso(RoGravity)\n",
    "print(MIsoSolar/1e10) #units of 1e10 Msun\n",
    "MIso260 = MassIso(260)\n",
    "print(MIso260/1e12)"
   ]
  },
  {
   "cell_type": "markdown",
   "metadata": {},
   "source": [
    "## c) \n",
    "\n",
    "The Leo I satellite is one of the fastest moving satellite galaxies we know. \n",
    "\n",
    "\n",
    "It is moving with 3D velocity of magnitude: Vtot = 196 km/s at a distance of 260 kpc (Sohn 2013 ApJ 768)\n",
    "\n",
    "If we assume that Leo I is moving at the escape speed:\n",
    "\n",
    "$v_{esc}^2 = 2|\\Phi| = 2 \\int G \\frac{\\rho(r)}{r}dV $ \n",
    "\n",
    "and assuming the Milky Way is well modeled by a Hernquist Sphere with a scale radius of $a$= 30 kpc, what is the minimum mass of the Milky Way (in units of $10^{12}$ M$_\\odot$) ?  \n",
    "\n",
    "How does this compare to estimates of the mass assuming the Isothermal Sphere model at 260 kpc (from your answer above)"
   ]
  },
  {
   "cell_type": "code",
   "execution_count": 14,
   "metadata": {},
   "outputs": [
    {
     "name": "stdout",
     "output_type": "stream",
     "text": [
      "1.2379039068403042\n"
     ]
    },
    {
     "data": {
      "text/plain": [
       "2.5776795588045207"
      ]
     },
     "execution_count": 14,
     "metadata": {},
     "output_type": "execute_result"
    }
   ],
   "source": [
    "#Potential for a Hernquist Sphere \n",
    "# Phi = - G*M/(r+a)\n",
    "\n",
    "#Using the Hernquist potential , the equation for the escape speed becomes:\n",
    "#vesc^2 = 2*G*M/(r+a)\n",
    "\n",
    "#Rearranging the escape speed equation for M\n",
    "#M = vesc^2/2/G*(r+a)\n",
    "#    =196^2/2/G*(260+30)\n",
    "\n",
    "#Function to determine the total halo mass to set the scape speed at a given escape speed at a given distance.\n",
    "#assuming a Hernquist potential profile for the dark matter halo\n",
    "\n",
    "def MassFromVesc(vesc,a,r):\n",
    "    #Inputs:\n",
    "    #    vesc is the escape speed in km/s (or the speed of the satellite)\n",
    "    #    r is the distance from the galactic center (kpc)\n",
    "    #    a  = Hernquist scale length\n",
    "    #Return:\n",
    "    #    Tatal mass in Msun\n",
    "    return vesc**2/2/G*(r+a)\n",
    "\n",
    "#Mass needed to keep Leo I bound, assuming a Hernquist Profile\n",
    "MLeoI = MassFromVesc(196,30,260)\n",
    "print(MLeoI/1e12)\n",
    "MIso260/MLeoI"
   ]
  },
  {
   "cell_type": "code",
   "execution_count": null,
   "metadata": {},
   "outputs": [],
   "source": []
  }
 ],
 "metadata": {
  "kernelspec": {
   "display_name": "Python 3",
   "language": "python",
   "name": "python3"
  },
  "language_info": {
   "codemirror_mode": {
    "name": "ipython",
    "version": 3
   },
   "file_extension": ".py",
   "mimetype": "text/x-python",
   "name": "python",
   "nbconvert_exporter": "python",
   "pygments_lexer": "ipython3",
   "version": "3.7.3"
  }
 },
 "nbformat": 4,
 "nbformat_minor": 2
}
