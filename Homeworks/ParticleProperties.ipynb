{
 "cells": [
  {
   "cell_type": "code",
   "execution_count": 99,
   "metadata": {},
   "outputs": [
    {
     "name": "stdout",
     "output_type": "stream",
     "text": [
      "3D Distance:  772522.1019816446 lyr\n",
      "3D Velocity:  199.0600289975112 km/s\n",
      "Mass:  0.00394985 solMass\n"
     ]
    }
   ],
   "source": [
    "import numpy as np\n",
    "import astropy.units as u\n",
    "#from ReadFile import Read\n",
    "def ParticleInfo(filename,particle_type,particle_number):\n",
    "    file = open(filename, 'r') #Opens the file in read mode\n",
    "    line1 = file.readline() #Pics the first line in the file and reads it\n",
    "    label, value = line1.split() #Splits the line at a blank space and stores it as the label and the value\n",
    "    time = float(value)*u.Myr #Reads the value in units of Myr\n",
    "    line2 = file.readline() #Reads the second line in the file and splits the line in the same way as the first line\n",
    "    label, value = line2.split()\n",
    "    number = float(value)\n",
    "    #Store the remaining data from the file so that it can be accessed using the type of data and which line \n",
    "    data = np.genfromtxt(filename,dtype=None,names = True,skip_header=3) \n",
    "    file.close()\n",
    "    #Gets the mass of the 100th particle (solMass)\n",
    "    mass = data['m'][99]\n",
    "    #Pull the data for positional data: (x,y,z)\n",
    "    #The values are squared for ease of use in calculation of 3D distance (kpc)\n",
    "    x = data['x'][99]**2\n",
    "    y = data['y'][99]**2\n",
    "    z = data['z'][99]**2\n",
    "    #Pull the values for the directional velocities (vx,vy,vz) (km/s)\n",
    "    #The values are squared for ease of use in calculation of 3D velocity\n",
    "    vx = data['vx'][99]**2\n",
    "    vy = data['vy'][99]**2\n",
    "    vz = data['vz'][99]**2\n",
    "    #Calculate the 3D distance and velocity\n",
    "    dist = np.sqrt((x+y+z))*u.kpc\n",
    "    #Converts distance to units of lightyears using .to function in astropy\n",
    "    dist = dist.to(u.lyr)\n",
    "    vel = np.sqrt((vx+vy+vz))\n",
    "    print('3D Distance: ',dist)\n",
    "    print('3D Velocity: ',vel,'km/s')\n",
    "    print('Mass: ',mass,'solMass')\n",
    "ParticleInfo('Downloads/MW_000.txt', 'disk', 101)  "
   ]
  },
  {
   "cell_type": "code",
   "execution_count": null,
   "metadata": {},
   "outputs": [],
   "source": []
  },
  {
   "cell_type": "code",
   "execution_count": null,
   "metadata": {},
   "outputs": [],
   "source": []
  }
 ],
 "metadata": {
  "kernelspec": {
   "display_name": "Python 3",
   "language": "python",
   "name": "python3"
  },
  "language_info": {
   "codemirror_mode": {
    "name": "ipython",
    "version": 3
   },
   "file_extension": ".py",
   "mimetype": "text/x-python",
   "name": "python",
   "nbconvert_exporter": "python",
   "pygments_lexer": "ipython3",
   "version": "3.7.3"
  }
 },
 "nbformat": 4,
 "nbformat_minor": 2
}
