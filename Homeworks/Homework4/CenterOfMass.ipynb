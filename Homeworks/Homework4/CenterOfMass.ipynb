{
 "cells": [
  {
   "cell_type": "code",
   "execution_count": null,
   "metadata": {},
   "outputs": [],
   "source": [
    "# Homework 4\n",
    "# Center of Mass Position and Velocity\n",
    "# write your name here"
   ]
  },
  {
   "cell_type": "code",
   "execution_count": 1,
   "metadata": {
    "ExecuteTime": {
     "end_time": "2020-02-04T23:59:21.657237Z",
     "start_time": "2020-02-04T23:59:21.653687Z"
    }
   },
   "outputs": [],
   "source": [
    "# import modules\n",
    "import numpy as np\n",
    "import astropy.units as u\n",
    "import astropy.table as tbl\n",
    "\n",
    "from ReadFile import Read"
   ]
  },
  {
   "cell_type": "code",
   "execution_count": 47,
   "metadata": {
    "ExecuteTime": {
     "end_time": "2020-02-04T23:59:24.003059Z",
     "start_time": "2020-02-04T23:59:23.979271Z"
    }
   },
   "outputs": [],
   "source": [
    "class CenterOfMass:\n",
    "# Class to define COM position and velocity properties of a given galaxy \n",
    "# and simulation snapshot\n",
    "    \n",
    "    \n",
    "    def __init__(self, filename, ptype):\n",
    "    # Initialize the instance of this Class with the following properties:\n",
    "    \n",
    "        # read data in the given file using Read\n",
    "        self.time, self.total, self.data = Read(filename)                                                                                             \n",
    "\n",
    "        #create an array to store indexes of particles of desired Ptype                                \n",
    "        self.index = np.where(self.data['type'] == ptype)\n",
    "\n",
    "        # store the mass, positions, velocities of only the particles of the given type\n",
    "        # the following only gives the example of storing the mass\n",
    "        self.m = self.data['m'][self.index]\n",
    "        # write your own code to complete this for positions and velocities\n",
    "        #\n",
    "        self.m = self.data['m'][self.index]\n",
    "        self.x = self.data['x'][self.index]\n",
    "        self.y = self.data['y'][self.index]\n",
    "        self.z = self.data['z'][self.index]\n",
    "        self.vx = self.data['vx'][self.index]\n",
    "        self.vy = self.data['vy'][self.index]\n",
    "        self.vz = self.data['vz'][self.index]\n",
    "\n",
    "\n",
    "    def COMdefine(self,a,b,c,m):\n",
    "    # Function to compute the center of mass position or velocity generically\n",
    "    # input: array (a,b,c) of positions or velocities and the mass\n",
    "    # returns: 3 floats  (the center of mass coordinates)\n",
    "\n",
    "        # write your own code to compute the generic COM using Eq. 1 in the homework instructions\n",
    "        # xcomponent Center of mass\n",
    "        Acom = np.sum(a * m)/np.sum(m)\n",
    "        # ycomponent Center of mass\n",
    "        Bcom = np.sum(b * m)/np.sum(m)\n",
    "        # zcomponent Center of mass\n",
    "        Ccom = np.sum(c * m)/np.sum(m)\n",
    "        \n",
    "        return Acom, Bcom, Ccom\n",
    "    \n",
    "    \n",
    "    def COM_P(self, delta):\n",
    "    # Function to specifically return the center of mass position and velocity                                         \n",
    "    # input:                                                                                                           \n",
    "    #        particle type (1,2,3)                                                                                     \n",
    "    #        delta (tolerance)                                                                                         \n",
    "    # returns: One vector, with rows indicating:                                                                                                                                                                            \n",
    "    #       3D coordinates of the center of mass position (kpc)                                                             \n",
    "\n",
    "        # Center of Mass Position                                                                                      \n",
    "        ###########################                                                                                    \n",
    "\n",
    "        # Try a first guess at the COM position by calling COMdefine                                                   \n",
    "        XCOM, YCOM, ZCOM = self.COMdefine(self.x, self.y, self.z, self.m)\n",
    "        # compute the magnitude of the COM position vector.\n",
    "        # write your own code below\n",
    "        RCOM = np.sqrt(XCOM**2 + YCOM**2 + ZCOM**2)\n",
    "\n",
    "\n",
    "        # iterative process to determine the center of mass                                                            \n",
    "\n",
    "        # change reference frame to COM frame                                                                          \n",
    "        # Calculate a new guess for the center of mass by subtracting \n",
    "        # the initial guess from the position array\n",
    "        xNew = self.x - XCOM\n",
    "        yNew = self.y - YCOM\n",
    "        zNew = self.z - ZCOM\n",
    "        RNEW = np.sqrt(xNew**2 + yNew**2 + zNew**2)\n",
    "\n",
    "        # find the max 3D distance of all particles from the guessed COM                                               \n",
    "        # will re-start at half that radius (reduced radius)                                                           \n",
    "        RMAX = max(RNEW)/2.0\n",
    "        \n",
    "        # pick an initial value for the change in COM position                                                      \n",
    "        # between the first guess above and the new one computed from half that volume\n",
    "        # it should be larger than the input tolerance (delta) initially\n",
    "        CHANGE = 1000.0\n",
    "\n",
    "        # start iterative process to determine center of mass position                                                 \n",
    "        # delta is the tolerance for the difference in the old COM and the new one.    \n",
    "        \n",
    "        while (CHANGE > delta):\n",
    "            # select all particles within the reduced radius (starting from original x,y,z, m)\n",
    "            #Select values for positions and mass within a set radius\n",
    "            index2 = np.where(RNEW<RMAX)\n",
    "            x2 = self.x[index2]\n",
    "            y2 = self.y[index2]\n",
    "            z2 = self.z[index2]\n",
    "            m2 = self.m[index2]\n",
    "\n",
    "            # Refined COM position:                                                                                    \n",
    "            # Recalculate the COM using the new updated values\n",
    "            XCOM2, YCOM2, ZCOM2 = self.COMdefine(x2, y2, z2, m2)\n",
    "            # Calculate the \n",
    "            RCOM2 = np.sqrt(XCOM2**2 + YCOM2**2 + ZCOM2**2)\n",
    "\n",
    "            # determine the difference between the previous center of mass position                                    \n",
    "            # and the new one.                                                                                         \n",
    "            CHANGE = np.abs(RCOM - RCOM2)\n",
    "            # uncomment the following line if you wnat to check this                                                                                               \n",
    "            # print (\"CHANGE = \", CHANGE)                                                                                     \n",
    "\n",
    "            # Before loop continues, reset : RMAX, particle separations and COM                                        \n",
    "\n",
    "            # reduce the volume by a factor of 2 again                                                                 \n",
    "            RMAX = RMAX/2.0\n",
    "            # check this.                                                                                              \n",
    "            #print (\"maxR\", maxR)                                                                                      \n",
    "\n",
    "            # Calculate a new guess for the center of mass by subtracting \n",
    "            # the initial guess from the position array\n",
    "            xNew = self.x - XCOM2\n",
    "            yNew = self.y - YCOM2\n",
    "            zNew = self.z - ZCOM2\n",
    "            RNEW = np.sqrt(xNew**2 + yNew**2 + zNew**2)\n",
    "\n",
    "            # set the center of mass positions to the refined values                                                   \n",
    "            XCOM = XCOM2\n",
    "            YCOM = YCOM2\n",
    "            ZCOM = ZCOM2\n",
    "            RCOM = RCOM2\n",
    "\n",
    "            # create a vector to store the COM position                                                                                                                                                       \n",
    "            COMP = [XCOM, YCOM, ZCOM]\n",
    "\n",
    "        # set the correct units usint astropy and round all values\n",
    "        # and then return the COM positon vector\n",
    "        COMP = np.around(COMP*u.kpc, 2)\n",
    "        return COMP\n",
    "    \n",
    "\n",
    "    def COM_V(self, XCOM,YCOM,ZCOM):\n",
    "        # Center of Mass velocity\n",
    "        # input: X, Y, Z positions of the COM\n",
    "        # returns 3D Vector of COM Velocities\n",
    "        \n",
    "        # the max distance from the center that we will use to determine the center of mass velocity                   \n",
    "        RVMAX = 15.0*u.kpc\n",
    "\n",
    "        # determine the position of all particles relative to the center of mass position\n",
    "        # Calculate a new guess for the center of mass by subtracting \n",
    "        # the initial guess from the position array\n",
    "        xNew = self.x*u.kpc - XCOM\n",
    "        yNew = self.y*u.kpc - YCOM\n",
    "        zNew = self.z*u.kpc - ZCOM\n",
    "        RNEW = np.sqrt(xNew**2 + yNew**2 + zNew**2)\n",
    "\n",
    "        \n",
    "        # Set the new index for particles within the given radius\n",
    "        indexV = np.where(RNEW<RVMAX)\n",
    "\n",
    "        # Get the values for the directional velocities within a given radius\n",
    "        vxnew = self.vx[indexV]\n",
    "        vynew = self.vy[indexV]\n",
    "        vznew = self.vz[indexV]\n",
    "        mnew =  self.m[indexV]\n",
    "        \n",
    "        \n",
    "        # Recalculate the COM Velocity using the new updated values\n",
    "        VXCOM, VYCOM, VZCOM = self.COMdefine(vxnew, vynew, vznew, mnew)\n",
    "\n",
    "        # create a vector to store the COM velocity\n",
    "        # set the correct units usint astropy\n",
    "        # round all values\n",
    "        # Create an array containing the COM velocity values in each direction and then \n",
    "        # round the value to 2 decimal places and add units of km/s\n",
    "        COMV = np.array([VXCOM, VYCOM, VZCOM])\n",
    "        COMV = np.around(COMV*u.km/u.s,2)\n",
    "        # return the COM vector                                                                                        \n",
    "        return COMV"
   ]
  },
  {
   "cell_type": "code",
   "execution_count": 50,
   "metadata": {},
   "outputs": [
    {
     "name": "stdout",
     "output_type": "stream",
     "text": [
      "Milky Way Center of Mass Position Vector\n",
      "[-2.07  2.95 -1.45] kpc\n",
      "Milky Way Center of Mass Veloctiy Vector\n",
      "[ 0.94  6.32 -1.35] km / s\n",
      "M31 Center of Mass Position Vector\n",
      "[-377.66  611.43 -284.64] kpc\n",
      "M31 Center of Mass Velocity Vector\n",
      "[ 72.85 -72.14  49.  ] km / s\n",
      "M33 Way Center of Mass Position Vector\n",
      "[-476.22  491.44 -412.4 ] kpc\n",
      "M33 Way Center of Mass Velocity Vector\n",
      "[ 44.42 101.78 142.23] km / s\n"
     ]
    }
   ],
   "source": [
    "# 1. Determine the COM for MW, M31, and M33\n",
    "    #Read in MW_000.txt, M31_000.txt, and M33_000.txt\n",
    "MWCOM = CenterOfMass(\"MW_000.txt\", 2)\n",
    "MW_COMP = MWCOM.COM_P(0.1)\n",
    "MW_COMV = MWCOM.COM_V(MW_COMP[0], MW_COMP[1], MW_COMP[2])\n",
    "M31COM = CenterOfMass(\"M31_000.txt\",2)\n",
    "M31_COMP = M31COM.COM_P(0.1)\n",
    "M31_COMV = M31COM.COM_V(M31_COMP[0], M31_COMP[1], M31_COMP[2])\n",
    "M33COM = CenterOfMass(\"M33_000.txt\",2)\n",
    "M33_COMP = M33COM.COM_P(0.1)\n",
    "M33_COMV = M33COM.COM_V(M33_COMP[0], M33_COMP[1], M33_COMP[2])\n",
    "print(\"Milky Way Center of Mass Position Vector\")\n",
    "print(MW_COMP)\n",
    "print(\"Milky Way Center of Mass Veloctiy Vector\")\n",
    "print(MW_COMV)\n",
    "print(\"M31 Center of Mass Position Vector\")\n",
    "print(M31_COMP)\n",
    "print(\"M31 Center of Mass Velocity Vector\")\n",
    "print(M31_COMV)\n",
    "print(\"M33 Way Center of Mass Position Vector\")\n",
    "print(M33_COMP)\n",
    "print(\"M33 Way Center of Mass Velocity Vector\")\n",
    "print(M33_COMV)"
   ]
  },
  {
   "cell_type": "code",
   "execution_count": 51,
   "metadata": {},
   "outputs": [
    {
     "name": "stdout",
     "output_type": "stream",
     "text": [
      "Absolute Distance Between Milky and Andromeda\n",
      "769.0983907147381 kpc\n",
      "Absolute Velocity Between Milky Way and Andromeda\n",
      "117.73759892234935 km / s\n"
     ]
    }
   ],
   "source": [
    "#2. Find the magnitude of the current separation and velocity between MW and M31.\n",
    "#Subtract the two vectors and then take the magnitude of the result\n",
    "MW_M31_Separation = np.linalg.norm(MW_COMP - M31_COMP)*u.kpc #np.linalg.norm returns the magnitude of the inputs\n",
    "print(\"Absolute Distance Between Milky and Andromeda\")\n",
    "print(MW_M31_Separation)\n",
    "print(\"Absolute Velocity Between Milky Way and Andromeda\")\n",
    "print(np.linalg.norm(MW_COMV - M31_COMV)*u.km/u.s)"
   ]
  },
  {
   "cell_type": "code",
   "execution_count": 53,
   "metadata": {},
   "outputs": [
    {
     "name": "stdout",
     "output_type": "stream",
     "text": [
      "Absolute Distance Between Milky and Andromeda\n",
      "201.08279712595998 kpc\n",
      "Absolute Velocity Between Milky Way and Andromeda\n",
      "199.36966720140757 km / s\n"
     ]
    }
   ],
   "source": [
    "#3 Find the magnitude of the current separation and velocity between M31 and M33.\n",
    "#Subtract the two vectors and then take the magnitude of the result\n",
    "M33_M31_Separation = np.linalg.norm(M33_COMP - M31_COMP)*u.kpc #np.linalg.norm returns the magnitude of the inputs\n",
    "print(\"Absolute Distance Between Milky and Andromeda\")\n",
    "print(M33_M31_Separation)\n",
    "print(\"Absolute Velocity Between Milky Way and Andromeda\")\n",
    "print(np.linalg.norm(M33_COMV - M31_COMV)*u.km/u.s)"
   ]
  },
  {
   "cell_type": "markdown",
   "metadata": {},
   "source": [
    "#4 Why is it important to use an iterative process to determine the COM?\n",
    "It is important to iterate the COM of mass function when considering the two merging galaxies, since as they approach they will gravitationally distrupt the other. This will cause the COM of each to move as a result. A static one time calculation would not take this into account."
   ]
  }
 ],
 "metadata": {
  "kernelspec": {
   "display_name": "Python 3",
   "language": "python",
   "name": "python3"
  },
  "language_info": {
   "codemirror_mode": {
    "name": "ipython",
    "version": 3
   },
   "file_extension": ".py",
   "mimetype": "text/x-python",
   "name": "python",
   "nbconvert_exporter": "python",
   "pygments_lexer": "ipython3",
   "version": "3.7.3"
  },
  "varInspector": {
   "cols": {
    "lenName": 16,
    "lenType": 16,
    "lenVar": 40
   },
   "kernels_config": {
    "python": {
     "delete_cmd_postfix": "",
     "delete_cmd_prefix": "del ",
     "library": "var_list.py",
     "varRefreshCmd": "print(var_dic_list())"
    },
    "r": {
     "delete_cmd_postfix": ") ",
     "delete_cmd_prefix": "rm(",
     "library": "var_list.r",
     "varRefreshCmd": "cat(var_dic_list()) "
    }
   },
   "types_to_exclude": [
    "module",
    "function",
    "builtin_function_or_method",
    "instance",
    "_Feature"
   ],
   "window_display": false
  }
 },
 "nbformat": 4,
 "nbformat_minor": 2
}
